{
 "cells": [
  {
   "cell_type": "code",
   "execution_count": 5,
   "metadata": {},
   "outputs": [],
   "source": [
    "#PYTHONPATH=$PYTHONPATH:.\n",
    "!set PYTHONPATH=%PYTHONPATH%;."
   ]
  },
  {
   "cell_type": "code",
   "execution_count": 3,
   "metadata": {},
   "outputs": [
    {
     "name": "stderr",
     "output_type": "stream",
     "text": [
      "Traceback (most recent call last):\n",
      "  File \"./anonymizer/bin/anonymize.py\", line 20, in <module>\n",
      "    from anonymizer.anonymization import Anonymizer\n",
      "ModuleNotFoundError: No module named 'anonymizer'\n"
     ]
    }
   ],
   "source": [
    "!python ./anonymizer/bin/anonymize.py --input ./images --image-output ./output --weights ./model/"
   ]
  },
  {
   "cell_type": "code",
   "execution_count": null,
   "metadata": {},
   "outputs": [],
   "source": [
    "!python ./anonymizer/bin/anonymize.py --input ./images --image-output ./output --weights ./model/ --no-write-detections --obfuscation-kernel=\"85,3,10\""
   ]
  }
 ],
 "metadata": {
  "kernelspec": {
   "display_name": "Python 3",
   "language": "python",
   "name": "python3"
  },
  "language_info": {
   "codemirror_mode": {
    "name": "ipython",
    "version": 3
   },
   "file_extension": ".py",
   "mimetype": "text/x-python",
   "name": "python",
   "nbconvert_exporter": "python",
   "pygments_lexer": "ipython3",
   "version": "3.6.10"
  }
 },
 "nbformat": 4,
 "nbformat_minor": 4
}
